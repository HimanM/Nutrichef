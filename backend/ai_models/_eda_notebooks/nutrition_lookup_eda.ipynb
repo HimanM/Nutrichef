{
 "cells": [
  {
   "cell_type": "markdown",
   "metadata": {},
   "source": [
    "# Exploratory Data Analysis (EDA) for Nutrition Lookup\n",
    "\n",
    "This notebook analyzes the datasets used by the `OfflineNutritionLookup` model: `food.csv`, `nutrient.csv`, and `food_nutrient.csv`. The goal is to understand the structure of these datasets and the relationships between them."
   ]
  },
  {
   "cell_type": "code",
   "execution_count": 1,
   "metadata": {},
   "outputs": [
    {
     "name": "stdout",
     "output_type": "stream",
     "text": [
      "Datasets loaded successfully.\n"
     ]
    },
    {
     "name": "stderr",
     "output_type": "stream",
     "text": [
      "C:\\Users\\mandu\\AppData\\Local\\Temp\\ipykernel_25064\\938361930.py:10: DtypeWarning: Columns (9) have mixed types. Specify dtype option on import or set low_memory=False.\n",
      "  food_nutrient_df = pd.read_csv(os.path.join(data_folder, 'food_nutrient.csv'))\n"
     ]
    }
   ],
   "source": [
    "import pandas as pd\n",
    "import matplotlib.pyplot as plt\n",
    "import seaborn as sns\n",
    "import os\n",
    "\n",
    "# Load the datasets\n",
    "data_folder = os.path.join('..', 'nutrition_lookup', 'Data')\n",
    "food_df = pd.read_csv(os.path.join(data_folder, 'food.csv'))\n",
    "nutrient_df = pd.read_csv(os.path.join(data_folder, 'nutrient.csv'))\n",
    "food_nutrient_df = pd.read_csv(os.path.join(data_folder, 'food_nutrient.csv'))\n",
    "\n",
    "print('Datasets loaded successfully.')"
   ]
  },
  {
   "cell_type": "markdown",
   "metadata": {},
   "source": [
    "## 1. Data Overview\n",
    "\n",
    "Let's examine the first few rows of each dataset."
   ]
  },
  {
   "cell_type": "code",
   "execution_count": 2,
   "metadata": {},
   "outputs": [
    {
     "name": "stdout",
     "output_type": "stream",
     "text": [
      "Food Data:\n"
     ]
    },
    {
     "data": {
      "text/html": [
       "<div>\n",
       "<style scoped>\n",
       "    .dataframe tbody tr th:only-of-type {\n",
       "        vertical-align: middle;\n",
       "    }\n",
       "\n",
       "    .dataframe tbody tr th {\n",
       "        vertical-align: top;\n",
       "    }\n",
       "\n",
       "    .dataframe thead th {\n",
       "        text-align: right;\n",
       "    }\n",
       "</style>\n",
       "<table border=\"1\" class=\"dataframe\">\n",
       "  <thead>\n",
       "    <tr style=\"text-align: right;\">\n",
       "      <th></th>\n",
       "      <th>fdc_id</th>\n",
       "      <th>data_type</th>\n",
       "      <th>description</th>\n",
       "      <th>food_category_id</th>\n",
       "      <th>publication_date</th>\n",
       "    </tr>\n",
       "  </thead>\n",
       "  <tbody>\n",
       "    <tr>\n",
       "      <th>0</th>\n",
       "      <td>319874</td>\n",
       "      <td>sample_food</td>\n",
       "      <td>HUMMUS, SABRA CLASSIC</td>\n",
       "      <td>16.0</td>\n",
       "      <td>2019-04-01</td>\n",
       "    </tr>\n",
       "    <tr>\n",
       "      <th>1</th>\n",
       "      <td>319875</td>\n",
       "      <td>market_acquisition</td>\n",
       "      <td>HUMMUS, SABRA CLASSIC</td>\n",
       "      <td>16.0</td>\n",
       "      <td>2019-04-01</td>\n",
       "    </tr>\n",
       "    <tr>\n",
       "      <th>2</th>\n",
       "      <td>319876</td>\n",
       "      <td>market_acquisition</td>\n",
       "      <td>HUMMUS, SABRA CLASSIC</td>\n",
       "      <td>16.0</td>\n",
       "      <td>2019-04-01</td>\n",
       "    </tr>\n",
       "    <tr>\n",
       "      <th>3</th>\n",
       "      <td>319877</td>\n",
       "      <td>sub_sample_food</td>\n",
       "      <td>Hummus</td>\n",
       "      <td>16.0</td>\n",
       "      <td>2019-04-01</td>\n",
       "    </tr>\n",
       "    <tr>\n",
       "      <th>4</th>\n",
       "      <td>319878</td>\n",
       "      <td>sub_sample_food</td>\n",
       "      <td>Hummus</td>\n",
       "      <td>16.0</td>\n",
       "      <td>2019-04-01</td>\n",
       "    </tr>\n",
       "  </tbody>\n",
       "</table>\n",
       "</div>"
      ],
      "text/plain": [
       "   fdc_id           data_type            description  food_category_id  \\\n",
       "0  319874         sample_food  HUMMUS, SABRA CLASSIC              16.0   \n",
       "1  319875  market_acquisition  HUMMUS, SABRA CLASSIC              16.0   \n",
       "2  319876  market_acquisition  HUMMUS, SABRA CLASSIC              16.0   \n",
       "3  319877     sub_sample_food                 Hummus              16.0   \n",
       "4  319878     sub_sample_food                 Hummus              16.0   \n",
       "\n",
       "  publication_date  \n",
       "0       2019-04-01  \n",
       "1       2019-04-01  \n",
       "2       2019-04-01  \n",
       "3       2019-04-01  \n",
       "4       2019-04-01  "
      ]
     },
     "metadata": {},
     "output_type": "display_data"
    },
    {
     "name": "stdout",
     "output_type": "stream",
     "text": [
      "\n",
      "Nutrient Data:\n"
     ]
    },
    {
     "data": {
      "text/html": [
       "<div>\n",
       "<style scoped>\n",
       "    .dataframe tbody tr th:only-of-type {\n",
       "        vertical-align: middle;\n",
       "    }\n",
       "\n",
       "    .dataframe tbody tr th {\n",
       "        vertical-align: top;\n",
       "    }\n",
       "\n",
       "    .dataframe thead th {\n",
       "        text-align: right;\n",
       "    }\n",
       "</style>\n",
       "<table border=\"1\" class=\"dataframe\">\n",
       "  <thead>\n",
       "    <tr style=\"text-align: right;\">\n",
       "      <th></th>\n",
       "      <th>id</th>\n",
       "      <th>name</th>\n",
       "      <th>unit_name</th>\n",
       "      <th>nutrient_nbr</th>\n",
       "      <th>rank</th>\n",
       "    </tr>\n",
       "  </thead>\n",
       "  <tbody>\n",
       "    <tr>\n",
       "      <th>0</th>\n",
       "      <td>2047</td>\n",
       "      <td>Energy (Atwater General Factors)</td>\n",
       "      <td>KCAL</td>\n",
       "      <td>957.0</td>\n",
       "      <td>280.0</td>\n",
       "    </tr>\n",
       "    <tr>\n",
       "      <th>1</th>\n",
       "      <td>2048</td>\n",
       "      <td>Energy (Atwater Specific Factors)</td>\n",
       "      <td>KCAL</td>\n",
       "      <td>958.0</td>\n",
       "      <td>290.0</td>\n",
       "    </tr>\n",
       "    <tr>\n",
       "      <th>2</th>\n",
       "      <td>1001</td>\n",
       "      <td>Solids</td>\n",
       "      <td>G</td>\n",
       "      <td>201.0</td>\n",
       "      <td>200.0</td>\n",
       "    </tr>\n",
       "    <tr>\n",
       "      <th>3</th>\n",
       "      <td>1002</td>\n",
       "      <td>Nitrogen</td>\n",
       "      <td>G</td>\n",
       "      <td>202.0</td>\n",
       "      <td>500.0</td>\n",
       "    </tr>\n",
       "    <tr>\n",
       "      <th>4</th>\n",
       "      <td>1003</td>\n",
       "      <td>Protein</td>\n",
       "      <td>G</td>\n",
       "      <td>203.0</td>\n",
       "      <td>600.0</td>\n",
       "    </tr>\n",
       "  </tbody>\n",
       "</table>\n",
       "</div>"
      ],
      "text/plain": [
       "     id                               name unit_name  nutrient_nbr   rank\n",
       "0  2047   Energy (Atwater General Factors)      KCAL         957.0  280.0\n",
       "1  2048  Energy (Atwater Specific Factors)      KCAL         958.0  290.0\n",
       "2  1001                             Solids         G         201.0  200.0\n",
       "3  1002                           Nitrogen         G         202.0  500.0\n",
       "4  1003                            Protein         G         203.0  600.0"
      ]
     },
     "metadata": {},
     "output_type": "display_data"
    },
    {
     "name": "stdout",
     "output_type": "stream",
     "text": [
      "\n",
      "Food Nutrient Data:\n"
     ]
    },
    {
     "data": {
      "text/html": [
       "<div>\n",
       "<style scoped>\n",
       "    .dataframe tbody tr th:only-of-type {\n",
       "        vertical-align: middle;\n",
       "    }\n",
       "\n",
       "    .dataframe tbody tr th {\n",
       "        vertical-align: top;\n",
       "    }\n",
       "\n",
       "    .dataframe thead th {\n",
       "        text-align: right;\n",
       "    }\n",
       "</style>\n",
       "<table border=\"1\" class=\"dataframe\">\n",
       "  <thead>\n",
       "    <tr style=\"text-align: right;\">\n",
       "      <th></th>\n",
       "      <th>id</th>\n",
       "      <th>fdc_id</th>\n",
       "      <th>nutrient_id</th>\n",
       "      <th>amount</th>\n",
       "      <th>data_points</th>\n",
       "      <th>derivation_id</th>\n",
       "      <th>min</th>\n",
       "      <th>max</th>\n",
       "      <th>median</th>\n",
       "      <th>footnote</th>\n",
       "      <th>min_year_acquired</th>\n",
       "    </tr>\n",
       "  </thead>\n",
       "  <tbody>\n",
       "    <tr>\n",
       "      <th>0</th>\n",
       "      <td>2201847</td>\n",
       "      <td>319877</td>\n",
       "      <td>1051</td>\n",
       "      <td>56.30</td>\n",
       "      <td>1.0</td>\n",
       "      <td>1.0</td>\n",
       "      <td>NaN</td>\n",
       "      <td>NaN</td>\n",
       "      <td>NaN</td>\n",
       "      <td>NaN</td>\n",
       "      <td>NaN</td>\n",
       "    </tr>\n",
       "    <tr>\n",
       "      <th>1</th>\n",
       "      <td>2201845</td>\n",
       "      <td>319877</td>\n",
       "      <td>1002</td>\n",
       "      <td>1.28</td>\n",
       "      <td>1.0</td>\n",
       "      <td>1.0</td>\n",
       "      <td>NaN</td>\n",
       "      <td>NaN</td>\n",
       "      <td>NaN</td>\n",
       "      <td>NaN</td>\n",
       "      <td>NaN</td>\n",
       "    </tr>\n",
       "    <tr>\n",
       "      <th>2</th>\n",
       "      <td>2201846</td>\n",
       "      <td>319877</td>\n",
       "      <td>1004</td>\n",
       "      <td>19.00</td>\n",
       "      <td>1.0</td>\n",
       "      <td>1.0</td>\n",
       "      <td>NaN</td>\n",
       "      <td>NaN</td>\n",
       "      <td>NaN</td>\n",
       "      <td>NaN</td>\n",
       "      <td>NaN</td>\n",
       "    </tr>\n",
       "    <tr>\n",
       "      <th>3</th>\n",
       "      <td>2201844</td>\n",
       "      <td>319877</td>\n",
       "      <td>1007</td>\n",
       "      <td>1.98</td>\n",
       "      <td>1.0</td>\n",
       "      <td>1.0</td>\n",
       "      <td>NaN</td>\n",
       "      <td>NaN</td>\n",
       "      <td>NaN</td>\n",
       "      <td>NaN</td>\n",
       "      <td>NaN</td>\n",
       "    </tr>\n",
       "    <tr>\n",
       "      <th>4</th>\n",
       "      <td>2201852</td>\n",
       "      <td>319878</td>\n",
       "      <td>1091</td>\n",
       "      <td>188.00</td>\n",
       "      <td>1.0</td>\n",
       "      <td>1.0</td>\n",
       "      <td>NaN</td>\n",
       "      <td>NaN</td>\n",
       "      <td>NaN</td>\n",
       "      <td>NaN</td>\n",
       "      <td>NaN</td>\n",
       "    </tr>\n",
       "  </tbody>\n",
       "</table>\n",
       "</div>"
      ],
      "text/plain": [
       "        id  fdc_id  nutrient_id  amount  data_points  derivation_id  min  max  \\\n",
       "0  2201847  319877         1051   56.30          1.0            1.0  NaN  NaN   \n",
       "1  2201845  319877         1002    1.28          1.0            1.0  NaN  NaN   \n",
       "2  2201846  319877         1004   19.00          1.0            1.0  NaN  NaN   \n",
       "3  2201844  319877         1007    1.98          1.0            1.0  NaN  NaN   \n",
       "4  2201852  319878         1091  188.00          1.0            1.0  NaN  NaN   \n",
       "\n",
       "   median footnote  min_year_acquired  \n",
       "0     NaN      NaN                NaN  \n",
       "1     NaN      NaN                NaN  \n",
       "2     NaN      NaN                NaN  \n",
       "3     NaN      NaN                NaN  \n",
       "4     NaN      NaN                NaN  "
      ]
     },
     "metadata": {},
     "output_type": "display_data"
    }
   ],
   "source": [
    "print('Food Data:')\n",
    "display(food_df.head())\n",
    "\n",
    "print('\\nNutrient Data:')\n",
    "display(nutrient_df.head())\n",
    "\n",
    "print('\\nFood Nutrient Data:')\n",
    "display(food_nutrient_df.head())"
   ]
  },
  {
   "cell_type": "markdown",
   "metadata": {},
   "source": [
    "## 2. Merging and Visualizing Data\n",
    "\n",
    "Now, let's merge these datasets to create a comprehensive view and visualize the nutrient data for a sample food item."
   ]
  },
  {
   "cell_type": "code",
   "execution_count": 15,
   "metadata": {},
   "outputs": [
    {
     "name": "stderr",
     "output_type": "stream",
     "text": [
      "C:\\Users\\mandu\\AppData\\Local\\Temp\\ipykernel_25064\\1977160578.py:12: FutureWarning: \n",
      "\n",
      "Passing `palette` without assigning `hue` is deprecated and will be removed in v0.14.0. Assign the `y` variable to `hue` and set `legend=False` for the same effect.\n",
      "\n",
      "  sns.barplot(x='amount', y='name', data=top_nutrients, palette='mako')\n"
     ]
    },
    {
     "data": {
      "image/png": "[encoded data removed]",
      "text/plain": [
       "<Figure size 1200x800 with 1 Axes>"
      ]
     },
     "metadata": {},
     "output_type": "display_data"
    }
   ],
   "source": [
    "# Merge the datasets\n",
    "merged_df = pd.merge(food_nutrient_df, food_df, on='fdc_id')\n",
    "merged_df = pd.merge(merged_df, nutrient_df, left_on='nutrient_id', right_on='id')\n",
    "\n",
    "# Get nutrient data for a sample food (e.g., 'Apple')\n",
    "apple_data = merged_df[merged_df['description'].str.contains('apple, raw', na=False)]\n",
    "\n",
    "# Visualize the top 10 nutrients for the sample food\n",
    "top_nutrients = apple_data.nlargest(55, 'amount')\n",
    "\n",
    "plt.figure(figsize=(12, 8))\n",
    "sns.barplot(x='amount', y='name', data=top_nutrients, palette='mako')\n",
    "plt.title('Top 10 Nutrients in a Raw Apple')\n",
    "plt.xlabel('Amount')\n",
    "plt.ylabel('Nutrient')\n",
    "plt.show()"
   ]
  },
  {
   "cell_type": "code",
   "execution_count": null,
   "metadata": {},
   "outputs": [],
   "source": []
  }
 ],
 "metadata": {
  "kernelspec": {
   "display_name": "base",
   "language": "python",
   "name": "python3"
  },
  "language_info": {
   "codemirror_mode": {
    "name": "ipython",
    "version": 3
   },
   "file_extension": ".py",
   "mimetype": "text/x-python",
   "name": "python",
   "nbconvert_exporter": "python",
   "pygments_lexer": "ipython3",
   "version": "3.12.7"
  }
 },
 "nbformat": 4,
 "nbformat_minor": 4
}
